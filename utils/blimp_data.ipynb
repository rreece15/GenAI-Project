{
 "cells": [
  {
   "cell_type": "code",
   "execution_count": 1,
   "id": "abfb66dc",
   "metadata": {},
   "outputs": [
    {
     "name": "stderr",
     "output_type": "stream",
     "text": [
      "/home/tdutton/miniforge3/envs/amalgam/lib/python3.10/site-packages/tqdm/auto.py:21: TqdmWarning: IProgress not found. Please update jupyter and ipywidgets. See https://ipywidgets.readthedocs.io/en/stable/user_install.html\n",
      "  from .autonotebook import tqdm as notebook_tqdm\n"
     ]
    }
   ],
   "source": [
    "from datasets import load_dataset, concatenate_datasets"
   ]
  },
  {
   "cell_type": "code",
   "execution_count": 2,
   "id": "ea9a6949",
   "metadata": {},
   "outputs": [
    {
     "name": "stderr",
     "output_type": "stream",
     "text": [
      "Generating train split: 100%|██████████| 1000/1000 [00:00<00:00, 302183.29 examples/s]\n",
      "Generating train split: 100%|██████████| 1000/1000 [00:00<00:00, 583920.92 examples/s]\n",
      "Generating train split: 100%|██████████| 1000/1000 [00:00<00:00, 564053.79 examples/s]\n"
     ]
    }
   ],
   "source": [
    "ds_adjunct_island = load_dataset(\"nyu-mll/blimp\", \"adjunct_island\")\n",
    "ds_gender_agreement = load_dataset(\"nyu-mll/blimp\", \"anaphor_gender_agreement\")\n",
    "ds_number_agreement = load_dataset(\"nyu-mll/blimp\", \"anaphor_number_agreement\")"
   ]
  },
  {
   "cell_type": "code",
   "execution_count": 3,
   "id": "c62ebe1d",
   "metadata": {},
   "outputs": [
    {
     "data": {
      "text/plain": [
       "True"
      ]
     },
     "execution_count": 3,
     "metadata": {},
     "output_type": "execute_result"
    }
   ],
   "source": [
    "# Display number of columns\n",
    "ds_adjunct_island[\"train\"].features == ds_gender_agreement[\"train\"].features == ds_number_agreement[\"train\"].features"
   ]
  },
  {
   "cell_type": "code",
   "execution_count": 4,
   "id": "4a9dd356",
   "metadata": {},
   "outputs": [],
   "source": [
    "d1 = ds_adjunct_island[\"train\"]\n",
    "d2 = ds_gender_agreement[\"train\"]\n",
    "d3 = ds_number_agreement[\"train\"]\n",
    "combined = concatenate_datasets([d1, d2, d3])\n",
    "combined = combined.shuffle(seed=42)"
   ]
  },
  {
   "cell_type": "code",
   "execution_count": 5,
   "id": "4e476847",
   "metadata": {},
   "outputs": [
    {
     "name": "stderr",
     "output_type": "stream",
     "text": [
      "Map: 100%|██████████| 3000/3000 [00:00<00:00, 26377.28 examples/s]\n",
      "Map: 100%|██████████| 3000/3000 [00:00<00:00, 27369.86 examples/s]\n"
     ]
    }
   ],
   "source": [
    "ds_good = combined.map(\n",
    "    lambda ex: {\"sentence\": ex[\"sentence_good\"], \"label\": 1},\n",
    "    remove_columns=combined.column_names,\n",
    ")\n",
    "\n",
    "# make the “bad” side\n",
    "ds_bad = combined.map(\n",
    "    lambda ex: {\"sentence\": ex[\"sentence_bad\"], \"label\": 0},\n",
    "    remove_columns=combined.column_names,\n",
    ")\n",
    "\n",
    "# stack ’em up\n",
    "new_ds = concatenate_datasets([ds_good, ds_bad])"
   ]
  },
  {
   "cell_type": "code",
   "execution_count": 6,
   "id": "d4b9ece0",
   "metadata": {},
   "outputs": [],
   "source": [
    "new_ds = new_ds.shuffle(seed=42)"
   ]
  },
  {
   "cell_type": "code",
   "execution_count": null,
   "id": "7cb6cfa2",
   "metadata": {},
   "outputs": [],
   "source": [
    "import os\n",
    "\n",
    "save_dir = \"../data/blimp_adjunct_anaphor_refined\"\n",
    "os.makedirs(save_dir, exist_ok=True)\n"
   ]
  },
  {
   "cell_type": "code",
   "execution_count": 10,
   "id": "36b2f391",
   "metadata": {},
   "outputs": [
    {
     "name": "stderr",
     "output_type": "stream",
     "text": [
      "Saving the dataset (1/1 shards): 100%|██████████| 6000/6000 [00:00<00:00, 173073.99 examples/s]\n"
     ]
    }
   ],
   "source": [
    "new_ds.save_to_disk(save_dir)"
   ]
  },
  {
   "cell_type": "code",
   "execution_count": null,
   "id": "6cbbf661",
   "metadata": {},
   "outputs": [],
   "source": []
  }
 ],
 "metadata": {
  "kernelspec": {
   "display_name": "amalgam",
   "language": "python",
   "name": "python3"
  },
  "language_info": {
   "codemirror_mode": {
    "name": "ipython",
    "version": 3
   },
   "file_extension": ".py",
   "mimetype": "text/x-python",
   "name": "python",
   "nbconvert_exporter": "python",
   "pygments_lexer": "ipython3",
   "version": "3.10.0"
  }
 },
 "nbformat": 4,
 "nbformat_minor": 5
}
