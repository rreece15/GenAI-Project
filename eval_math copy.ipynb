{
 "cells": [
  {
   "cell_type": "code",
   "execution_count": 1,
   "id": "ac0e6de0",
   "metadata": {},
   "outputs": [
    {
     "name": "stderr",
     "output_type": "stream",
     "text": [
      "/home/ubuntu/anaconda3/envs/amalgam/lib/python3.10/site-packages/tqdm/auto.py:21: TqdmWarning: IProgress not found. Please update jupyter and ipywidgets. See https://ipywidgets.readthedocs.io/en/stable/user_install.html\n",
      "  from .autonotebook import tqdm as notebook_tqdm\n"
     ]
    }
   ],
   "source": [
    "from transformers import AutoModelForCausalLM, AutoTokenizer\n",
    "import torch"
   ]
  },
  {
   "cell_type": "code",
   "execution_count": 2,
   "id": "a5152dff",
   "metadata": {},
   "outputs": [
    {
     "name": "stderr",
     "output_type": "stream",
     "text": [
      "Loading checkpoint shards: 100%|██████████| 2/2 [00:02<00:00,  1.26s/it]\n"
     ]
    }
   ],
   "source": [
    "model_id = \"mistralai/Mistral-7B-v0.1\"\n",
    "\n",
    "model  = AutoModelForCausalLM.from_pretrained(\n",
    "    model_id,\n",
    "    torch_dtype=torch.bfloat16,\n",
    "    device_map={\"\":\"cuda\"},\n",
    ")\n",
    "model.eval()\n",
    "\n",
    "tokenizer = AutoTokenizer.from_pretrained(model_id)\n",
    "tokenizer.pad_token = tokenizer.eos_token "
   ]
  },
  {
   "cell_type": "code",
   "execution_count": 3,
   "id": "056639cc",
   "metadata": {},
   "outputs": [],
   "source": [
    "from datasets import load_dataset\n",
    "\n",
    "# Load the dataset\n",
    "HUMANEVAL_ID = \"openai_humaneval\"\n",
    "MATH_ID = \"EleutherAI/hendrycks_math\"\n",
    "\n",
    "dataset = load_dataset(MATH_ID, \"prealgebra\")[\"test\"]"
   ]
  },
  {
   "cell_type": "code",
   "execution_count": 4,
   "id": "dc78a88b",
   "metadata": {},
   "outputs": [
    {
     "data": {
      "text/plain": [
       "Dataset({\n",
       "    features: ['problem', 'level', 'type', 'solution'],\n",
       "    num_rows: 871\n",
       "})"
      ]
     },
     "execution_count": 4,
     "metadata": {},
     "output_type": "execute_result"
    }
   ],
   "source": [
    "dataset"
   ]
  },
  {
   "cell_type": "code",
   "execution_count": null,
   "id": "1d668776",
   "metadata": {},
   "outputs": [
    {
     "name": "stderr",
     "output_type": "stream",
     "text": [
      "Setting `pad_token_id` to `eos_token_id`:2 for open-end generation.\n"
     ]
    },
    {
     "name": "stdout",
     "output_type": "stream",
     "text": [
      "Solve the following math problem and provide your final numerical answer in simplified form:\n",
      "\n",
      "John and Gary are playing a game. John spins a spinner numbered with integers from 1 to 20. Gary then writes a list of all of the positive factors of the number spun except for the number itself. Gary then creates a new spinner with all of the numbers on his list. John then spins this spinner, and the process continues. The game is over when the spinner has no numbers on it. If John spins a 20 on his first spin, what is the maximum number of total spins (including the one he already made) that John can make before the game is over?\n",
      "\n",
      "Your answer should be a single number, without any additional text or explanation.\n",
      "\n",
      "© BrainMass Inc. brainmass.com October 10, 2019, 1:00 am ad1c9bdddf\n",
      "https://brainmass.com/math/combinatorics/maximum-number-spins-game-48253\n",
      "\n",
      "The solution provides the maximum number of spins that John can make before the game is over.\n",
      "\n",
      "$2.19\n",
      "Predicted: 2.19\n",
      "Actual: 4\n"
     ]
    }
   ],
   "source": [
    "from tqdm import tqdm\n",
    "import re\n",
    "\n",
    "def extract_predicted_answer(output):\n",
    "    # Regex to extract final number\n",
    "    match = re.findall(r\"\\b\\d+(?:\\.\\d+)?\\b\", output)\n",
    "    return match[-1] if match else None\n",
    "\n",
    "def extract_boxed_answer(text):\n",
    "    \"\"\"\n",
    "    Extracts the content of the last encountered \\boxed{...} instance from a given string.\n",
    "    Returns None if no such instance is found.\n",
    "    \"\"\"\n",
    "    matches = re.findall(r\"\\\\boxed\\{([^}]+)\\}\", text)\n",
    "    return matches[-1].strip() if matches else None\n",
    "\n",
    "def create_prompt(question):\n",
    "    return f\"Solve the following math problem and provide your final numerical answer in simplified form, without any additional text or explanation.\\nQ:{question}\\nA:\"\n",
    "\n",
    "total = 0\n",
    "\n",
    "for example in dataset:\n",
    "    break\n",
    "prompt = create_prompt(example[\"problem\"])\n",
    "\n",
    "inputs = tokenizer(prompt, return_tensors=\"pt\").to(model.device)\n",
    "output = model.generate(**inputs, max_new_tokens=128)\n",
    "\n",
    "decoded = tokenizer.decode(output[0], skip_special_tokens=True)\n",
    "predicted = extract_predicted_answer(decoded)\n",
    "\n",
    "actual = extract_boxed_answer(example[\"solution\"])\n",
    "\n",
    "print(decoded, flush=True)\n",
    "print(f\"Predicted: {predicted}\", flush=True)\n",
    "print(f\"Actual: {actual}\", flush=True)\n",
    "\n",
    "if predicted == actual:\n",
    "    correct += 1\n",
    "total += 1\n",
    "    \n",
    "#     if total == 10:\n",
    "#         break\n",
    "\n",
    "# print(f\"Accuracy: {correct / total:.4f}\")\n"
   ]
  },
  {
   "cell_type": "code",
   "execution_count": 8,
   "id": "a1911892",
   "metadata": {},
   "outputs": [
    {
     "data": {
      "text/plain": [
       "{'problem': 'John and Gary are playing a game. John spins a spinner numbered with integers from 1 to 20. Gary then writes a list of all of the positive factors of the number spun except for the number itself. Gary then creates a new spinner with all of the numbers on his list. John then spins this spinner, and the process continues. The game is over when the spinner has no numbers on it. If John spins a 20 on his first spin, what is the maximum number of total spins (including the one he already made) that John can make before the game is over?',\n",
       " 'level': 'Level 5',\n",
       " 'type': 'Prealgebra',\n",
       " 'solution': \"If John spins a 20, then Gary's list contains the numbers 1, 2, 4, 5, 10. Thus, these are the numbers on the second spinner.\\n\\nIf John spins a 1, then Gary's list will be empty because there are no positive factors of 1 besides itself. Thus, the game will be over. This yields a maximum of 1 additional spin.\\n\\nIf John spins a 2, then Gary's list will only contain the number 1. Then on John's next spin, we will have the same scenario as above. This yields a maximum of 2 additional spins.\\n\\nIf John spins a 4, then Gary's list will contain the numbers 1 and 2. As we have already found above, spinning a 2 yields more additional spins than a 1, so the maximum additional spins in this case is 3 spins.\\n\\nIf John spins a 5, then Gary's list will only contain the number 1. As above, this will yield a maximum of 2 additional spins.\\n\\nFinally, if John spins a 10, then Gary's list will contain the numbers 1, 2, and 5. Of these numbers, 2 and 5 have the highest maximum number of additional spins, so this case has a maximum of 3 additional spins.\\n\\nThus, of all of the possibilities, spinning a 4 or 10 next could result in 3 additional spins, so the maximum total number of spins is $\\\\boxed{4}$. These would be achieved by spinning 20, 10, 2, 1 or 20, 10, 5, 1 or 20, 4, 2, 1.\"}"
      ]
     },
     "execution_count": 8,
     "metadata": {},
     "output_type": "execute_result"
    }
   ],
   "source": [
    "example"
   ]
  }
 ],
 "metadata": {
  "kernelspec": {
   "display_name": "amalgam",
   "language": "python",
   "name": "python3"
  },
  "language_info": {
   "codemirror_mode": {
    "name": "ipython",
    "version": 3
   },
   "file_extension": ".py",
   "mimetype": "text/x-python",
   "name": "python",
   "nbconvert_exporter": "python",
   "pygments_lexer": "ipython3",
   "version": "3.10.0"
  }
 },
 "nbformat": 4,
 "nbformat_minor": 5
}
