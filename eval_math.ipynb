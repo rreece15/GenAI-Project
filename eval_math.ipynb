{
 "cells": [
  {
   "cell_type": "code",
   "execution_count": 1,
   "id": "a5152dff",
   "metadata": {},
   "outputs": [
    {
     "name": "stderr",
     "output_type": "stream",
     "text": [
      "/home/tdutton/miniforge3/envs/amalgam/lib/python3.10/site-packages/tqdm/auto.py:21: TqdmWarning: IProgress not found. Please update jupyter and ipywidgets. See https://ipywidgets.readthedocs.io/en/stable/user_install.html\n",
      "  from .autonotebook import tqdm as notebook_tqdm\n",
      "Loading checkpoint shards: 100%|██████████| 2/2 [00:01<00:00,  1.55it/s]\n",
      "Could not find the bitsandbytes CUDA binary at PosixPath('/home/tdutton/miniforge3/envs/amalgam/lib/python3.10/site-packages/bitsandbytes/libbitsandbytes_cuda121.so')\n",
      "The installed version of bitsandbytes was compiled without GPU support. 8-bit optimizers, 8-bit multiplication, and GPU quantization are unavailable.\n"
     ]
    }
   ],
   "source": [
    "import torch\n",
    "from utils.model import load_peft_model\n",
    "\n",
    "# Load the model\n",
    "MODEL_ID = \"mistralai/Mistral-7B-v0.1\"\n",
    "GSM8K_ID = \"predibase/gsm8k\"\n",
    "MAGICODER_ID = \"predibase/magicoder\"\n",
    "\n",
    "ADAPTERS = {\n",
    "    # \"gsm8k\": GSM8K_ID,\n",
    "    \"magicoder\": MAGICODER_ID,\n",
    "}\n",
    "\n",
    "model, tokenizer = load_peft_model(MODEL_ID, ADAPTERS, torch_dtype=torch.bfloat16)"
   ]
  },
  {
   "cell_type": "code",
   "execution_count": 2,
   "id": "056639cc",
   "metadata": {},
   "outputs": [],
   "source": [
    "from datasets import load_dataset\n",
    "\n",
    "# Load the dataset\n",
    "HUMANEVAL_ID = \"openai_humaneval\"\n",
    "MATH_ID = \"EleutherAI/hendrycks_math\"\n",
    "\n",
    "dataset = load_dataset(MATH_ID, \"prealgebra\")[\"test\"]"
   ]
  },
  {
   "cell_type": "code",
   "execution_count": 3,
   "id": "6c91aa12",
   "metadata": {},
   "outputs": [
    {
     "name": "stderr",
     "output_type": "stream",
     "text": [
      "  0%|          | 0/55 [00:00<?, ?it/s]"
     ]
    },
    {
     "name": "stderr",
     "output_type": "stream",
     "text": [
      "100%|██████████| 55/55 [08:43<00:00,  9.52s/it]"
     ]
    },
    {
     "name": "stdout",
     "output_type": "stream",
     "text": [
      "Correct: 8 == 8\n",
      "Correct: 192 == 192\n",
      "Correct: 7 == 7\n",
      "Correct: 510 == 510\n",
      "Total Accuracy: 0.46% (4/871)\n"
     ]
    },
    {
     "name": "stderr",
     "output_type": "stream",
     "text": [
      "\n"
     ]
    }
   ],
   "source": [
    "# Evaluate the model\n",
    "from eval.math import evaluate\n",
    "from transformers import logging\n",
    "logging.set_verbosity_error()\n",
    "\n",
    "results = evaluate(\n",
    "    model=model,\n",
    "    tokenizer=tokenizer,\n",
    "    dataset=dataset,\n",
    "    batch_size=16,\n",
    ")"
   ]
  },
  {
   "cell_type": "code",
   "execution_count": null,
   "id": "ca26be78",
   "metadata": {},
   "outputs": [],
   "source": []
  }
 ],
 "metadata": {
  "kernelspec": {
   "display_name": "amalgam",
   "language": "python",
   "name": "python3"
  },
  "language_info": {
   "codemirror_mode": {
    "name": "ipython",
    "version": 3
   },
   "file_extension": ".py",
   "mimetype": "text/x-python",
   "name": "python",
   "nbconvert_exporter": "python",
   "pygments_lexer": "ipython3",
   "version": "3.10.0"
  }
 },
 "nbformat": 4,
 "nbformat_minor": 5
}
