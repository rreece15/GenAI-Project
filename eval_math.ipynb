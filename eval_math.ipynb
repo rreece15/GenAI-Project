{
 "cells": [
  {
   "cell_type": "code",
   "execution_count": null,
   "id": "a5152dff",
   "metadata": {},
   "outputs": [],
   "source": [
    "import torch\n",
    "from utils.model import load_peft_model\n",
    "\n",
    "# Load the model\n",
    "MODEL_ID = \"mistralai/Mistral-7B-v0.1\"\n",
    "GSM8K_ID = \"predibase/gsm8k\"\n",
    "MAGICODER_ID = \"predibase/magicoder\"\n",
    "\n",
    "model, tokenizer = load_peft_model(MODEL_ID, MAGICODER_ID, torch_dtype=torch.bfloat16)"
   ]
  },
  {
   "cell_type": "code",
   "execution_count": null,
   "id": "056639cc",
   "metadata": {},
   "outputs": [],
   "source": [
    "from datasets import load_dataset\n",
    "\n",
    "# Load the dataset\n",
    "HUMANEVAL_ID = \"openai_humaneval\"\n",
    "MATH_ID = \"EleutherAI/hendrycks_math\"\n",
    "\n",
    "dataset = load_dataset(MATH_ID, \"prealgebra\")[\"test\"]"
   ]
  },
  {
   "cell_type": "code",
   "execution_count": null,
   "id": "6c91aa12",
   "metadata": {},
   "outputs": [],
   "source": [
    "# Evaluate the model\n",
    "from eval.math import evaluate\n",
    "\n",
    "results = evaluate(\n",
    "    model=model,\n",
    "    tokenizer=tokenizer,\n",
    "    dataset=dataset,\n",
    ")"
   ]
  }
 ],
 "metadata": {
  "kernelspec": {
   "display_name": "gen-models",
   "language": "python",
   "name": "python3"
  },
  "language_info": {
   "codemirror_mode": {
    "name": "ipython",
    "version": 3
   },
   "file_extension": ".py",
   "mimetype": "text/x-python",
   "name": "python",
   "nbconvert_exporter": "python",
   "pygments_lexer": "ipython3",
   "version": "3.10.0"
  }
 },
 "nbformat": 4,
 "nbformat_minor": 5
}
