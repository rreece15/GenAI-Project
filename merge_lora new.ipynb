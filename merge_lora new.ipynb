{
 "cells": [
  {
   "cell_type": "code",
   "execution_count": 1,
   "metadata": {},
   "outputs": [],
   "source": [
    "from transformers import AutoModelForCausalLM, AutoTokenizer\n",
    "from huggingface_hub import login\n",
    "from peft import PeftModel, PeftConfig, get_peft_model\n",
    "import torch\n",
    "from tqdm import tqdm"
   ]
  },
  {
   "cell_type": "code",
   "execution_count": 2,
   "metadata": {},
   "outputs": [
    {
     "name": "stdout",
     "output_type": "stream",
     "text": [
      "True\n",
      "1\n",
      "NVIDIA GeForce GTX 1650\n"
     ]
    }
   ],
   "source": [
    "print(torch.cuda.is_available())  # Should return True if CUDA is available\n",
    "print(torch.cuda.device_count())  # Number of GPUs detected\n",
    "print(torch.cuda.get_device_name(0))"
   ]
  },
  {
   "cell_type": "markdown",
   "metadata": {},
   "source": [
    "## Configurations"
   ]
  },
  {
   "cell_type": "code",
   "execution_count": 3,
   "metadata": {},
   "outputs": [],
   "source": [
    "model_id = \"mistralai/Mistral-7B-v0.1\"\n",
    "peft_model_gsm8k_id = \"predibase/gsm8k\"\n",
    "peft_model_magicoder_id = \"predibase/magicoder\"\n",
    "peft_model_gluecola_id = \"predibase/glue_cola\"\n",
    "peft_model_hellaswag_id = \"predibase/hellaswag\"\n",
    "\n",
    "adapter_name_gsm8k = \"gsm8k\"\n",
    "adapter_name_magicoder = \"magicoder\"\n",
    "adapter_name_gluecola = \"glue_cola\"\n",
    "adapter_name_hellaswag = \"hellaswag\"\n",
    "\n",
    "merged_adapter_name = \"gsm8k_magicoder_hellaswag\""
   ]
  },
  {
   "cell_type": "code",
   "execution_count": 4,
   "metadata": {},
   "outputs": [],
   "source": [
    "device = \"cuda\" if torch.cuda.is_available() else \"cpu\"\n",
    "if device == \"cuda\":\n",
    "    compute_dtype = torch.bfloat16 # Or torch.float16 depending on your GPU\n",
    "else:\n",
    "    compute_dtype = torch.float32"
   ]
  },
  {
   "cell_type": "markdown",
   "metadata": {},
   "source": [
    "## Load model and Adaptors"
   ]
  },
  {
   "cell_type": "code",
   "execution_count": 5,
   "metadata": {},
   "outputs": [],
   "source": [
    "torch.cuda.empty_cache()\n",
    "torch.cuda.reset_peak_memory_stats()"
   ]
  },
  {
   "cell_type": "code",
   "execution_count": 6,
   "metadata": {},
   "outputs": [
    {
     "data": {
      "application/vnd.jupyter.widget-view+json": {
       "model_id": "0cba83f245b74e1ca1b3032279d49b53",
       "version_major": 2,
       "version_minor": 0
      },
      "text/plain": [
       "Loading checkpoint shards:   0%|          | 0/2 [00:00<?, ?it/s]"
      ]
     },
     "metadata": {},
     "output_type": "display_data"
    }
   ],
   "source": [
    "base_model = AutoModelForCausalLM.from_pretrained(\n",
    "    model_id,\n",
    "    torch_dtype=compute_dtype,\n",
    "    device_map={\"\":\"cuda\"}, # Automatically distributes across GPUs if available/needed\n",
    "    # offload_folder='offload/'\n",
    ")\n",
    "tokenizer = AutoTokenizer.from_pretrained(model_id)"
   ]
  },
  {
   "cell_type": "code",
   "execution_count": 7,
   "metadata": {},
   "outputs": [
    {
     "data": {
      "text/plain": [
       "<All keys matched successfully>"
      ]
     },
     "execution_count": 7,
     "metadata": {},
     "output_type": "execute_result"
    }
   ],
   "source": [
    "model = PeftModel.from_pretrained(\n",
    "    base_model,\n",
    "    peft_model_gsm8k_id,\n",
    "    adapter_name=adapter_name_gsm8k, # You can name the first adapter here\n",
    "    # device_map=\"auto\", # Apply device mapping here if needed\n",
    "    low_cpu_mem_usage=True,\n",
    "    offload_folder='offload/'\n",
    ")\n",
    "model.load_adapter(peft_model_magicoder_id, adapter_name=adapter_name_magicoder)\n",
    "# model.load_adapter(peft_model_gluecola_id, adapter_name=adapter_name_gluecola)\n",
    "model.load_adapter(peft_model_hellaswag_id, adapter_name=adapter_name_hellaswag)\n",
    "# model.to(\"cuda\")"
   ]
  },
  {
   "cell_type": "code",
   "execution_count": 8,
   "metadata": {},
   "outputs": [
    {
     "name": "stderr",
     "output_type": "stream",
     "text": [
      "Combining LoRA weights: 100%|██████████| 128/128 [00:00<00:00, 4453.00it/s]\n"
     ]
    }
   ],
   "source": [
    "state_dict = model.state_dict()\n",
    "# merging 2\n",
    "# lora_a = {k: v for k, v in state_dict.items() if adapter_name_gluecola in k and \"lora_\" in k}\n",
    "# lora_b = {k.replace(adapter_name_hellaswag, adapter_name_gluecola): v for k, v in state_dict.items() if adapter_name_hellaswag in k and \"lora_\" in k}\n",
    "\n",
    "# combined_lora = {}\n",
    "# for k in tqdm(lora_a, desc=\"Combining LoRA weights\"):\n",
    "#     combined_lora[k] = lora_a[k] + lora_b[k]\n",
    "\n",
    "# merging 3\n",
    "lora_a = {k: v for k, v in state_dict.items() if adapter_name_gsm8k in k and \"lora_\" in k}\n",
    "lora_b = {k.replace(adapter_name_magicoder, adapter_name_gsm8k): v for k, v in state_dict.items() if adapter_name_magicoder in k and \"lora_\" in k}\n",
    "lora_c = {k.replace(adapter_name_hellaswag, adapter_name_gsm8k): v for k, v in state_dict.items() if adapter_name_hellaswag in k and \"lora_\" in k}\n",
    "\n",
    "combined_lora = {}\n",
    "for k in tqdm(lora_a, desc=\"Combining LoRA weights\"):\n",
    "    combined_lora[k] = lora_a[k] + lora_b[k] + lora_c[k]\n",
    "\n",
    "# merge 4\n",
    "# lora_a = {k: v for k, v in state_dict.items() if adapter_name_gsm8k in k and \"lora_\" in k}\n",
    "# lora_b = {k.replace(adapter_name_gluecola, adapter_name_gsm8k): v for k, v in state_dict.items() if adapter_name_gluecola in k and \"lora_\" in k}\n",
    "# lora_c = {k.replace(adapter_name_magicoder, adapter_name_gsm8k): v for k, v in state_dict.items() if adapter_name_magicoder in k and \"lora_\" in k}\n",
    "# lora_d = {k.replace(adapter_name_hellaswag, adapter_name_gsm8k): v for k, v in state_dict.items() if adapter_name_hellaswag in k and \"lora_\" in k}\n",
    "\n",
    "# combined_lora = {}\n",
    "# for k in tqdm(lora_a, desc=\"Combining LoRA weights\"):\n",
    "#     combined_lora[k] = lora_a[k] + lora_b[k] + lora_c[k] + lora_d[k]"
   ]
  },
  {
   "cell_type": "code",
   "execution_count": 9,
   "metadata": {},
   "outputs": [],
   "source": [
    "config = PeftConfig.from_pretrained(peft_model_gsm8k_id)\n",
    "\n",
    "# Update the adapter name to be the new one\n",
    "config.peft_type = \"LORA\"\n",
    "config.task_type = \"CAUSAL_LM\"  # or whatever matches your use case\n",
    "config.inference_mode = False\n",
    "config.adapter_name = merged_adapter_name\n",
    "\n",
    "# Add the new adapter slot into the model\n",
    "model.add_adapter(merged_adapter_name, config)"
   ]
  },
  {
   "cell_type": "code",
   "execution_count": 10,
   "metadata": {},
   "outputs": [],
   "source": [
    "with torch.no_grad():\n",
    "    for name, param in model.named_parameters():\n",
    "        if merged_adapter_name in name and \"lora_\" in name:\n",
    "            # Map to the combined key\n",
    "            base_name = name.replace(merged_adapter_name, adapter_name_gsm8k)\n",
    "            if base_name in combined_lora:\n",
    "                param.copy_(combined_lora[base_name])"
   ]
  },
  {
   "cell_type": "code",
   "execution_count": 11,
   "metadata": {},
   "outputs": [
    {
     "name": "stdout",
     "output_type": "stream",
     "text": [
      "\n",
      "Saving the merged adapter 'gsm8k_magicoder_hellaswag' to weights/element_add/gsm8k_magicoder_hellaswag...\n"
     ]
    },
    {
     "data": {
      "text/plain": [
       "('weights/element_add/gsm8k_magicoder_hellaswag\\\\tokenizer_config.json',\n",
       " 'weights/element_add/gsm8k_magicoder_hellaswag\\\\special_tokens_map.json',\n",
       " 'weights/element_add/gsm8k_magicoder_hellaswag\\\\tokenizer.json')"
      ]
     },
     "execution_count": 11,
     "metadata": {},
     "output_type": "execute_result"
    }
   ],
   "source": [
    "model.set_adapter(merged_adapter_name)\n",
    "\n",
    "save_directory = f\"weights/element_add/{merged_adapter_name}\"\n",
    "print(f\"\\nSaving the merged adapter '{merged_adapter_name}' to {save_directory}...\")\n",
    "model.save_pretrained(save_directory, selected_adapters=[merged_adapter_name])\n",
    "tokenizer.save_pretrained(save_directory) "
   ]
  },
  {
   "cell_type": "markdown",
   "metadata": {},
   "source": [
    "## Testing"
   ]
  },
  {
   "cell_type": "code",
   "execution_count": 12,
   "metadata": {},
   "outputs": [
    {
     "name": "stdout",
     "output_type": "stream",
     "text": [
      "\n",
      "--- Testing the merged model ---\n",
      "Current active adapter: gsm8k_magicoder_hellaswag\n",
      "\n",
      "Prompt: def fibonacci(n):\n"
     ]
    },
    {
     "name": "stderr",
     "output_type": "stream",
     "text": [
      "c:\\Users\\reece\\anaconda3\\envs\\gen-models\\lib\\site-packages\\transformers\\generation\\configuration_utils.py:567: UserWarning: `do_sample` is set to `False`. However, `temperature` is set to `0.7` -- this flag is only used in sample-based generation modes. You should set `do_sample=True` or unset `temperature`.\n",
      "  warnings.warn(\n"
     ]
    },
    {
     "name": "stdout",
     "output_type": "stream",
     "text": [
      "Generated Output:\n",
      "def fibonacci(n):\n",
      "\n",
      "Prompt: You are provided with an incomplete passage below as well as 4 endings in quotes and separated by commas, with only one of them being the correct ending. Treat the endings as being labelled 0, 1, 2, 3 in order. Please respond with the number corresponding to the correct ending for the passage.\n",
      "\n",
      "### Passage: The mother instructs them on how to brush their teeth while laughing. The boy helps his younger sister brush his teeth. she\n",
      "\n",
      "### Endings: ['shows how to hit the mom and then kiss his dad as well.' 'brushes past the camera, looking better soon after.' 'glows from the center of the camera as a reaction.' 'gets them some water to gargle in their mouths.']\n",
      "\n",
      "### Correct Ending Number: \n",
      "Generated Output:\n",
      "You are provided with an incomplete passage below as well as 4 endings in quotes and separated by commas, with only one of them being the correct ending. Treat the endings as being labelled 0, 1, 2, 3 in order. Please respond with the number corresponding to the correct ending for the passage.\n",
      "\n",
      "### Passage: The mother instructs them on how to brush their teeth while laughing. The boy helps his younger sister brush his teeth. she\n",
      "\n",
      "### Endings: ['shows how to hit the mom and then kiss his dad as well.' 'brushes past the camera, looking better soon after.' 'glows from the center of the camera as a reaction.' 'gets them some water to gargle in their mouths.']\n",
      "\n",
      "### Correct Ending Number: \n",
      "\n",
      "Prompt: What is 5 * 8 + 3?\n",
      "Generated Output:\n",
      "What is 5 * 8 + 3?\n",
      "\n",
      "Prompt: Determine if the sentence below is syntactically and semantically correct. If it is syntactically and semantically correct, respond \"1\". Otherwise, respond \"0\".\n",
      "\n",
      "Sentence: Every senator seems to become more corrupt, as he talks to more lobbyists.\n",
      "\n",
      "Label: \n",
      "Generated Output:\n",
      "Determine if the sentence below is syntactically and semantically correct. If it is syntactically and semantically correct, respond \"1\". Otherwise, respond \"0\".\n",
      "\n",
      "Sentence: Every senator seems to become more corrupt, as he talks to more lobbyists.\n",
      "\n",
      "Label: \n"
     ]
    }
   ],
   "source": [
    "print(\"\\n--- Testing the merged model ---\")\n",
    "# Make sure the merged adapter is active (we did this in step 5)\n",
    "print(f\"Current active adapter: {model.active_adapter}\") # Verify it's the merged one\n",
    "\n",
    "prompt_gsm8k = \"What is 5 * 8 + 3?\" # Example GSM8K style\n",
    "prompt_magicoder = \"def fibonacci(n):\" # Example Magicoder style\n",
    "prompt_gluecola = 'Determine if the sentence below is syntactically and semantically correct. If it is syntactically and semantically correct, respond \"1\". Otherwise, respond \"0\".\\n\\nSentence: Every senator seems to become more corrupt, as he talks to more lobbyists.\\n\\nLabel: '\n",
    "prompt_hellaswag = 'You are provided with an incomplete passage below as well as 4 endings in quotes and separated by commas, with only one of them being the correct ending. Treat the endings as being labelled 0, 1, 2, 3 in order. Please respond with the number corresponding to the correct ending for the passage.\\n\\n### Passage: The mother instructs them on how to brush their teeth while laughing. The boy helps his younger sister brush his teeth. she\\n\\n### Endings: [\\'shows how to hit the mom and then kiss his dad as well.\\' \\'brushes past the camera, looking better soon after.\\' \\'glows from the center of the camera as a reaction.\\' \\'gets them some water to gargle in their mouths.\\']\\n\\n### Correct Ending Number: '\n",
    "if tokenizer.pad_token is None:\n",
    "    tokenizer.pad_token = tokenizer.eos_token\n",
    "\n",
    "for prompt in [prompt_magicoder, prompt_hellaswag, prompt_gsm8k, prompt_gluecola]:\n",
    "    print(f\"\\nPrompt: {prompt}\")\n",
    "    inputs = tokenizer(prompt, return_tensors=\"pt\", padding=True).to(model.device)\n",
    "    with torch.no_grad(): \n",
    "        outputs = model.generate(\n",
    "            **inputs,\n",
    "            max_new_tokens=50,\n",
    "            temperature=0.7,\n",
    "            pad_token_id=tokenizer.pad_token_id # Important for generation\n",
    "            )\n",
    "    decoded_output = tokenizer.decode(outputs[0], skip_special_tokens=True)\n",
    "    print(f\"Generated Output:\\n{decoded_output}\")"
   ]
  }
 ],
 "metadata": {
  "kernelspec": {
   "display_name": "gen-models",
   "language": "python",
   "name": "python3"
  },
  "language_info": {
   "codemirror_mode": {
    "name": "ipython",
    "version": 3
   },
   "file_extension": ".py",
   "mimetype": "text/x-python",
   "name": "python",
   "nbconvert_exporter": "python",
   "pygments_lexer": "ipython3",
   "version": "3.9.18"
  }
 },
 "nbformat": 4,
 "nbformat_minor": 2
}
