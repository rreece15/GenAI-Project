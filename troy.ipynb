{
 "cells": [
  {
   "cell_type": "code",
   "execution_count": null,
   "id": "a5152dff",
   "metadata": {},
   "outputs": [],
   "source": [
    "import torch\n",
    "from utils import load_peft_model\n",
    "\n",
    "# Load the model\n",
    "MODEL_ID = \"mistralai/Mistral-7B-v0.1\"\n",
    "GSM8K_ID = \"predibase/gsm8k\"\n",
    "MAGICODER_ID = \"predibase/magicoder\"\n",
    "\n",
    "model, tokenizer = load_peft_model(MODEL_ID, MAGICODER_ID, torch_dtype=torch.bfloat16)"
   ]
  },
  {
   "cell_type": "code",
   "execution_count": null,
   "id": "056639cc",
   "metadata": {},
   "outputs": [],
   "source": [
    "from datasets import load_dataset\n",
    "\n",
    "# Load the dataset\n",
    "HUMANEVAL_ID = \"openai_humaneval\"\n",
    "MATH_ID = \"EleutherAI/hendrycks_math\"\n",
    "\n",
    "dataset = load_dataset(HUMANEVAL_ID)[\"test\"]"
   ]
  },
  {
   "cell_type": "code",
   "execution_count": null,
   "id": "8b71a642",
   "metadata": {},
   "outputs": [],
   "source": [
    "# Evaluate the model\n",
    "from eval import evaluate_candidates, generate_candidates, load_candidates\n",
    "\n",
    "candidates = generate_candidates(\n",
    "    model=model,\n",
    "    tokenizer=tokenizer,\n",
    "    dataset=dataset,\n",
    "    k=5,\n",
    "    max_new_tokens=256,\n",
    "    temperature=0.2,\n",
    "    save_path=\"data/generated_results/magicoder_candidates.json\",\n",
    ")\n",
    "\n",
    "candidates = load_candidates(\"data/generated_results/magicoder_candidates.json\")\n",
    "\n",
    "results = evaluate_candidates(candidates, k=5)"
   ]
  },
  {
   "cell_type": "code",
   "execution_count": null,
   "id": "c630f4d4",
   "metadata": {},
   "outputs": [],
   "source": [
    "from eval import load_candidates, evaluate_candidates\n",
    "\n",
    "candidates = load_candidates(\"data/generated_results/magicoder_candidates.json\")\n",
    "\n",
    "results = evaluate_candidates(candidates, k=5)"
   ]
  }
 ],
 "metadata": {
  "kernelspec": {
   "display_name": "gen-models",
   "language": "python",
   "name": "python3"
  },
  "language_info": {
   "codemirror_mode": {
    "name": "ipython",
    "version": 3
   },
   "file_extension": ".py",
   "mimetype": "text/x-python",
   "name": "python",
   "nbconvert_exporter": "python",
   "pygments_lexer": "ipython3",
   "version": "3.10.0"
  }
 },
 "nbformat": 4,
 "nbformat_minor": 5
}
