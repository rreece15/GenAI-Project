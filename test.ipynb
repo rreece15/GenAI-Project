{
 "cells": [
  {
   "cell_type": "code",
   "execution_count": 1,
   "metadata": {},
   "outputs": [
    {
     "name": "stderr",
     "output_type": "stream",
     "text": [
      "/opt/homebrew/Caskroom/miniforge/base/envs/gen-models/lib/python3.10/site-packages/tqdm/auto.py:21: TqdmWarning: IProgress not found. Please update jupyter and ipywidgets. See https://ipywidgets.readthedocs.io/en/stable/user_install.html\n",
      "  from .autonotebook import tqdm as notebook_tqdm\n"
     ]
    }
   ],
   "source": [
    "from transformers import AutoModelForCausalLM, AutoTokenizer\n",
    "from huggingface_hub import login\n",
    "import torch"
   ]
  },
  {
   "cell_type": "markdown",
   "metadata": {},
   "source": [
    "## Download Weights"
   ]
  },
  {
   "cell_type": "code",
   "execution_count": null,
   "metadata": {},
   "outputs": [],
   "source": [
    "model_id = \"mistralai/Mistral-7B-v0.1\"\n",
    "peft_model_gsm8k_id = \"predibase/gsm8k\"\n",
    "gsm8k_model = AutoModelForCausalLM.from_pretrained(model_id)\n",
    "gsm8k_model.load_adapter(peft_model_gsm8k_id)"
   ]
  },
  {
   "cell_type": "code",
   "execution_count": null,
   "metadata": {},
   "outputs": [],
   "source": [
    "model_id = \"mistralai/Mistral-7B-v0.1\"\n",
    "peft_model_magicoder_id = \"predibase/magicoder\"\n",
    "magicoder_model = AutoModelForCausalLM.from_pretrained(model_id)\n",
    "magicoder_model.load_adapter(peft_model_magicoder_id)\n",
    "\n",
    "# Save weights\n",
    "torch.save(gsm8k_model.state_dict(), \"gsm8k_model_weights.pth\")\n",
    "torch.save(magicoder_model.state_dict(), \"magicoder_model_weights.pth\")"
   ]
  },
  {
   "cell_type": "markdown",
   "metadata": {},
   "source": [
    "## Load Weights"
   ]
  },
  {
   "cell_type": "code",
   "execution_count": 2,
   "metadata": {},
   "outputs": [],
   "source": [
    "gsm8k_state_dict = torch.load(\"weights/gsm8k_model_weights.pth\")\n",
    "magicoder_state_dict = torch.load(\"weights/magicoder_model_weights.pth\")"
   ]
  },
  {
   "cell_type": "code",
   "execution_count": 3,
   "metadata": {},
   "outputs": [
    {
     "ename": "",
     "evalue": "",
     "output_type": "error",
     "traceback": [
      "\u001b[1;31mThe Kernel crashed while executing code in the current cell or a previous cell. \n",
      "\u001b[1;31mPlease review the code in the cell(s) to identify a possible cause of the failure. \n",
      "\u001b[1;31mClick <a href='https://aka.ms/vscodeJupyterKernelCrash'>here</a> for more info. \n",
      "\u001b[1;31mView Jupyter <a href='command:jupyter.viewOutput'>log</a> for further details."
     ]
    }
   ],
   "source": [
    "# Verify matching shapes\n",
    "for (name1, param1), (name2, param2) in zip(gsm8k_state_dict.items(), magicoder_state_dict.items()):\n",
    "    assert param1.shape == param2.shape, f\"Shape mismatch in {name1}\"\n",
    "\n",
    "# Perform element-wise addition and normalization\n",
    "new_state_dict = {name: (param1 + param2) / 2 for (name, param1), (_, param2) in zip(gsm8k_state_dict.items(), magicoder_state_dict.items())}\n",
    "\n",
    "torch.save(new_state_dict, \"mistral_combined_weights.pth\")"
   ]
  }
 ],
 "metadata": {
  "kernelspec": {
   "display_name": "gen-models",
   "language": "python",
   "name": "python3"
  },
  "language_info": {
   "codemirror_mode": {
    "name": "ipython",
    "version": 3
   },
   "file_extension": ".py",
   "mimetype": "text/x-python",
   "name": "python",
   "nbconvert_exporter": "python",
   "pygments_lexer": "ipython3",
   "version": "3.10.0"
  }
 },
 "nbformat": 4,
 "nbformat_minor": 2
}
